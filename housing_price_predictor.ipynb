{
 "cells": [
  {
   "cell_type": "code",
   "execution_count": 1,
   "id": "36b30932",
   "metadata": {},
   "outputs": [],
   "source": [
    "import pandas as pd\n",
    "import numpy as np"
   ]
  },
  {
   "cell_type": "code",
   "execution_count": 2,
   "id": "fe714919",
   "metadata": {},
   "outputs": [
    {
     "data": {
      "text/html": [
       "<div>\n",
       "<style scoped>\n",
       "    .dataframe tbody tr th:only-of-type {\n",
       "        vertical-align: middle;\n",
       "    }\n",
       "\n",
       "    .dataframe tbody tr th {\n",
       "        vertical-align: top;\n",
       "    }\n",
       "\n",
       "    .dataframe thead th {\n",
       "        text-align: right;\n",
       "    }\n",
       "</style>\n",
       "<table border=\"1\" class=\"dataframe\">\n",
       "  <thead>\n",
       "    <tr style=\"text-align: right;\">\n",
       "      <th></th>\n",
       "      <th>price</th>\n",
       "      <th>area</th>\n",
       "      <th>bedrooms</th>\n",
       "      <th>bathrooms</th>\n",
       "      <th>stories</th>\n",
       "      <th>mainroad</th>\n",
       "      <th>guestroom</th>\n",
       "      <th>basement</th>\n",
       "      <th>hotwaterheating</th>\n",
       "      <th>airconditioning</th>\n",
       "      <th>parking</th>\n",
       "      <th>prefarea</th>\n",
       "      <th>furnishingstatus</th>\n",
       "    </tr>\n",
       "  </thead>\n",
       "  <tbody>\n",
       "    <tr>\n",
       "      <th>0</th>\n",
       "      <td>13300000</td>\n",
       "      <td>7420</td>\n",
       "      <td>4</td>\n",
       "      <td>2.0</td>\n",
       "      <td>3</td>\n",
       "      <td>yes</td>\n",
       "      <td>no</td>\n",
       "      <td>no</td>\n",
       "      <td>no</td>\n",
       "      <td>yes</td>\n",
       "      <td>2.0</td>\n",
       "      <td>yes</td>\n",
       "      <td>furnished</td>\n",
       "    </tr>\n",
       "    <tr>\n",
       "      <th>1</th>\n",
       "      <td>12250000</td>\n",
       "      <td>8960</td>\n",
       "      <td>4</td>\n",
       "      <td>4.0</td>\n",
       "      <td>4</td>\n",
       "      <td>yes</td>\n",
       "      <td>no</td>\n",
       "      <td>no</td>\n",
       "      <td>no</td>\n",
       "      <td>yes</td>\n",
       "      <td>3.0</td>\n",
       "      <td>no</td>\n",
       "      <td>furnished</td>\n",
       "    </tr>\n",
       "    <tr>\n",
       "      <th>2</th>\n",
       "      <td>12250000</td>\n",
       "      <td>9960</td>\n",
       "      <td>3</td>\n",
       "      <td>2.0</td>\n",
       "      <td>2</td>\n",
       "      <td>yes</td>\n",
       "      <td>no</td>\n",
       "      <td>yes</td>\n",
       "      <td>no</td>\n",
       "      <td>no</td>\n",
       "      <td>2.0</td>\n",
       "      <td>yes</td>\n",
       "      <td>semi-furnished</td>\n",
       "    </tr>\n",
       "    <tr>\n",
       "      <th>3</th>\n",
       "      <td>12215000</td>\n",
       "      <td>7500</td>\n",
       "      <td>4</td>\n",
       "      <td>2.0</td>\n",
       "      <td>2</td>\n",
       "      <td>yes</td>\n",
       "      <td>no</td>\n",
       "      <td>yes</td>\n",
       "      <td>no</td>\n",
       "      <td>yes</td>\n",
       "      <td>3.0</td>\n",
       "      <td>yes</td>\n",
       "      <td>furnished</td>\n",
       "    </tr>\n",
       "    <tr>\n",
       "      <th>4</th>\n",
       "      <td>11410000</td>\n",
       "      <td>7420</td>\n",
       "      <td>4</td>\n",
       "      <td>1.0</td>\n",
       "      <td>2</td>\n",
       "      <td>yes</td>\n",
       "      <td>yes</td>\n",
       "      <td>yes</td>\n",
       "      <td>no</td>\n",
       "      <td>yes</td>\n",
       "      <td>2.0</td>\n",
       "      <td>no</td>\n",
       "      <td>furnished</td>\n",
       "    </tr>\n",
       "  </tbody>\n",
       "</table>\n",
       "</div>"
      ],
      "text/plain": [
       "      price  area  bedrooms  bathrooms  stories mainroad guestroom basement  \\\n",
       "0  13300000  7420         4        2.0        3      yes        no       no   \n",
       "1  12250000  8960         4        4.0        4      yes        no       no   \n",
       "2  12250000  9960         3        2.0        2      yes        no      yes   \n",
       "3  12215000  7500         4        2.0        2      yes        no      yes   \n",
       "4  11410000  7420         4        1.0        2      yes       yes      yes   \n",
       "\n",
       "  hotwaterheating airconditioning  parking prefarea furnishingstatus  \n",
       "0              no             yes      2.0      yes        furnished  \n",
       "1              no             yes      3.0       no        furnished  \n",
       "2              no              no      2.0      yes   semi-furnished  \n",
       "3              no             yes      3.0      yes        furnished  \n",
       "4              no             yes      2.0       no        furnished  "
      ]
     },
     "execution_count": 2,
     "metadata": {},
     "output_type": "execute_result"
    }
   ],
   "source": [
    "housing= pd.read_csv(\"Housing.csv\")\n",
    "housing.head()"
   ]
  },
  {
   "cell_type": "code",
   "execution_count": 3,
   "id": "2e293f36",
   "metadata": {},
   "outputs": [
    {
     "data": {
      "text/html": [
       "<div>\n",
       "<style scoped>\n",
       "    .dataframe tbody tr th:only-of-type {\n",
       "        vertical-align: middle;\n",
       "    }\n",
       "\n",
       "    .dataframe tbody tr th {\n",
       "        vertical-align: top;\n",
       "    }\n",
       "\n",
       "    .dataframe thead th {\n",
       "        text-align: right;\n",
       "    }\n",
       "</style>\n",
       "<table border=\"1\" class=\"dataframe\">\n",
       "  <thead>\n",
       "    <tr style=\"text-align: right;\">\n",
       "      <th></th>\n",
       "      <th>price</th>\n",
       "      <th>area</th>\n",
       "      <th>bedrooms</th>\n",
       "      <th>bathrooms</th>\n",
       "      <th>stories</th>\n",
       "      <th>mainroad</th>\n",
       "      <th>guestroom</th>\n",
       "      <th>basement</th>\n",
       "      <th>hotwaterheating</th>\n",
       "      <th>airconditioning</th>\n",
       "      <th>parking</th>\n",
       "      <th>prefarea</th>\n",
       "      <th>furnishingstatus</th>\n",
       "    </tr>\n",
       "  </thead>\n",
       "  <tbody>\n",
       "    <tr>\n",
       "      <th>0</th>\n",
       "      <td>13300000</td>\n",
       "      <td>7420</td>\n",
       "      <td>4</td>\n",
       "      <td>2.0</td>\n",
       "      <td>3</td>\n",
       "      <td>1</td>\n",
       "      <td>0</td>\n",
       "      <td>0</td>\n",
       "      <td>0</td>\n",
       "      <td>1</td>\n",
       "      <td>2.0</td>\n",
       "      <td>1</td>\n",
       "      <td>2</td>\n",
       "    </tr>\n",
       "    <tr>\n",
       "      <th>1</th>\n",
       "      <td>12250000</td>\n",
       "      <td>8960</td>\n",
       "      <td>4</td>\n",
       "      <td>4.0</td>\n",
       "      <td>4</td>\n",
       "      <td>1</td>\n",
       "      <td>0</td>\n",
       "      <td>0</td>\n",
       "      <td>0</td>\n",
       "      <td>1</td>\n",
       "      <td>3.0</td>\n",
       "      <td>0</td>\n",
       "      <td>2</td>\n",
       "    </tr>\n",
       "    <tr>\n",
       "      <th>2</th>\n",
       "      <td>12250000</td>\n",
       "      <td>9960</td>\n",
       "      <td>3</td>\n",
       "      <td>2.0</td>\n",
       "      <td>2</td>\n",
       "      <td>1</td>\n",
       "      <td>0</td>\n",
       "      <td>1</td>\n",
       "      <td>0</td>\n",
       "      <td>0</td>\n",
       "      <td>2.0</td>\n",
       "      <td>1</td>\n",
       "      <td>1</td>\n",
       "    </tr>\n",
       "    <tr>\n",
       "      <th>3</th>\n",
       "      <td>12215000</td>\n",
       "      <td>7500</td>\n",
       "      <td>4</td>\n",
       "      <td>2.0</td>\n",
       "      <td>2</td>\n",
       "      <td>1</td>\n",
       "      <td>0</td>\n",
       "      <td>1</td>\n",
       "      <td>0</td>\n",
       "      <td>1</td>\n",
       "      <td>3.0</td>\n",
       "      <td>1</td>\n",
       "      <td>2</td>\n",
       "    </tr>\n",
       "    <tr>\n",
       "      <th>4</th>\n",
       "      <td>11410000</td>\n",
       "      <td>7420</td>\n",
       "      <td>4</td>\n",
       "      <td>1.0</td>\n",
       "      <td>2</td>\n",
       "      <td>1</td>\n",
       "      <td>1</td>\n",
       "      <td>1</td>\n",
       "      <td>0</td>\n",
       "      <td>1</td>\n",
       "      <td>2.0</td>\n",
       "      <td>0</td>\n",
       "      <td>2</td>\n",
       "    </tr>\n",
       "  </tbody>\n",
       "</table>\n",
       "</div>"
      ],
      "text/plain": [
       "      price  area  bedrooms  bathrooms  stories  mainroad  guestroom  \\\n",
       "0  13300000  7420         4        2.0        3         1          0   \n",
       "1  12250000  8960         4        4.0        4         1          0   \n",
       "2  12250000  9960         3        2.0        2         1          0   \n",
       "3  12215000  7500         4        2.0        2         1          0   \n",
       "4  11410000  7420         4        1.0        2         1          1   \n",
       "\n",
       "   basement  hotwaterheating  airconditioning  parking  prefarea  \\\n",
       "0         0                0                1      2.0         1   \n",
       "1         0                0                1      3.0         0   \n",
       "2         1                0                0      2.0         1   \n",
       "3         1                0                1      3.0         1   \n",
       "4         1                0                1      2.0         0   \n",
       "\n",
       "   furnishingstatus  \n",
       "0                 2  \n",
       "1                 2  \n",
       "2                 1  \n",
       "3                 2  \n",
       "4                 2  "
      ]
     },
     "execution_count": 3,
     "metadata": {},
     "output_type": "execute_result"
    }
   ],
   "source": [
    "housing = housing.replace(['yes'],1)\n",
    "housing = housing.replace(['no'],0)\n",
    "housing[\"furnishingstatus\"]= housing[\"furnishingstatus\"].replace(['unfurnished','semi-furnished','furnished'],[0,1,2])\n",
    "housing.head()"
   ]
  },
  {
   "cell_type": "code",
   "execution_count": 4,
   "id": "8a04e9e0",
   "metadata": {},
   "outputs": [
    {
     "data": {
      "text/html": [
       "<div>\n",
       "<style scoped>\n",
       "    .dataframe tbody tr th:only-of-type {\n",
       "        vertical-align: middle;\n",
       "    }\n",
       "\n",
       "    .dataframe tbody tr th {\n",
       "        vertical-align: top;\n",
       "    }\n",
       "\n",
       "    .dataframe thead th {\n",
       "        text-align: right;\n",
       "    }\n",
       "</style>\n",
       "<table border=\"1\" class=\"dataframe\">\n",
       "  <thead>\n",
       "    <tr style=\"text-align: right;\">\n",
       "      <th></th>\n",
       "      <th>price</th>\n",
       "      <th>area</th>\n",
       "      <th>bedrooms</th>\n",
       "      <th>bathrooms</th>\n",
       "      <th>stories</th>\n",
       "      <th>mainroad</th>\n",
       "      <th>guestroom</th>\n",
       "      <th>basement</th>\n",
       "      <th>hotwaterheating</th>\n",
       "      <th>airconditioning</th>\n",
       "      <th>parking</th>\n",
       "      <th>prefarea</th>\n",
       "      <th>furnishingstatus</th>\n",
       "    </tr>\n",
       "  </thead>\n",
       "  <tbody>\n",
       "    <tr>\n",
       "      <th>0</th>\n",
       "      <td>13300</td>\n",
       "      <td>7420</td>\n",
       "      <td>4</td>\n",
       "      <td>2.0</td>\n",
       "      <td>3</td>\n",
       "      <td>1</td>\n",
       "      <td>0</td>\n",
       "      <td>0</td>\n",
       "      <td>0</td>\n",
       "      <td>1</td>\n",
       "      <td>2.0</td>\n",
       "      <td>1</td>\n",
       "      <td>2</td>\n",
       "    </tr>\n",
       "    <tr>\n",
       "      <th>1</th>\n",
       "      <td>12250</td>\n",
       "      <td>8960</td>\n",
       "      <td>4</td>\n",
       "      <td>4.0</td>\n",
       "      <td>4</td>\n",
       "      <td>1</td>\n",
       "      <td>0</td>\n",
       "      <td>0</td>\n",
       "      <td>0</td>\n",
       "      <td>1</td>\n",
       "      <td>3.0</td>\n",
       "      <td>0</td>\n",
       "      <td>2</td>\n",
       "    </tr>\n",
       "    <tr>\n",
       "      <th>2</th>\n",
       "      <td>12250</td>\n",
       "      <td>9960</td>\n",
       "      <td>3</td>\n",
       "      <td>2.0</td>\n",
       "      <td>2</td>\n",
       "      <td>1</td>\n",
       "      <td>0</td>\n",
       "      <td>1</td>\n",
       "      <td>0</td>\n",
       "      <td>0</td>\n",
       "      <td>2.0</td>\n",
       "      <td>1</td>\n",
       "      <td>1</td>\n",
       "    </tr>\n",
       "    <tr>\n",
       "      <th>3</th>\n",
       "      <td>12215</td>\n",
       "      <td>7500</td>\n",
       "      <td>4</td>\n",
       "      <td>2.0</td>\n",
       "      <td>2</td>\n",
       "      <td>1</td>\n",
       "      <td>0</td>\n",
       "      <td>1</td>\n",
       "      <td>0</td>\n",
       "      <td>1</td>\n",
       "      <td>3.0</td>\n",
       "      <td>1</td>\n",
       "      <td>2</td>\n",
       "    </tr>\n",
       "    <tr>\n",
       "      <th>4</th>\n",
       "      <td>11410</td>\n",
       "      <td>7420</td>\n",
       "      <td>4</td>\n",
       "      <td>1.0</td>\n",
       "      <td>2</td>\n",
       "      <td>1</td>\n",
       "      <td>1</td>\n",
       "      <td>1</td>\n",
       "      <td>0</td>\n",
       "      <td>1</td>\n",
       "      <td>2.0</td>\n",
       "      <td>0</td>\n",
       "      <td>2</td>\n",
       "    </tr>\n",
       "  </tbody>\n",
       "</table>\n",
       "</div>"
      ],
      "text/plain": [
       "   price  area  bedrooms  bathrooms  stories  mainroad  guestroom  basement  \\\n",
       "0  13300  7420         4        2.0        3         1          0         0   \n",
       "1  12250  8960         4        4.0        4         1          0         0   \n",
       "2  12250  9960         3        2.0        2         1          0         1   \n",
       "3  12215  7500         4        2.0        2         1          0         1   \n",
       "4  11410  7420         4        1.0        2         1          1         1   \n",
       "\n",
       "   hotwaterheating  airconditioning  parking  prefarea  furnishingstatus  \n",
       "0                0                1      2.0         1                 2  \n",
       "1                0                1      3.0         0                 2  \n",
       "2                0                0      2.0         1                 1  \n",
       "3                0                1      3.0         1                 2  \n",
       "4                0                1      2.0         0                 2  "
      ]
     },
     "execution_count": 4,
     "metadata": {},
     "output_type": "execute_result"
    }
   ],
   "source": [
    "#Removing last 000(K) and Will consider it in the result afterwards\n",
    "Housing_p = housing.price.apply(lambda x : str(x))\n",
    "Housing_p = Housing_p.apply(lambda x : x[:len(x)-3])\n",
    "housing.price = Housing_p.apply(lambda x : int(x))\n",
    "housing.head()"
   ]
  },
  {
   "cell_type": "code",
   "execution_count": 5,
   "id": "5fb63756",
   "metadata": {},
   "outputs": [
    {
     "data": {
      "text/html": [
       "<div>\n",
       "<style scoped>\n",
       "    .dataframe tbody tr th:only-of-type {\n",
       "        vertical-align: middle;\n",
       "    }\n",
       "\n",
       "    .dataframe tbody tr th {\n",
       "        vertical-align: top;\n",
       "    }\n",
       "\n",
       "    .dataframe thead th {\n",
       "        text-align: right;\n",
       "    }\n",
       "</style>\n",
       "<table border=\"1\" class=\"dataframe\">\n",
       "  <thead>\n",
       "    <tr style=\"text-align: right;\">\n",
       "      <th></th>\n",
       "      <th>price</th>\n",
       "      <th>area</th>\n",
       "      <th>bedrooms</th>\n",
       "      <th>bathrooms</th>\n",
       "      <th>stories</th>\n",
       "      <th>mainroad</th>\n",
       "      <th>guestroom</th>\n",
       "      <th>basement</th>\n",
       "      <th>hotwaterheating</th>\n",
       "      <th>airconditioning</th>\n",
       "      <th>parking</th>\n",
       "      <th>prefarea</th>\n",
       "      <th>furnishingstatus</th>\n",
       "    </tr>\n",
       "  </thead>\n",
       "  <tbody>\n",
       "    <tr>\n",
       "      <th>count</th>\n",
       "      <td>545.000000</td>\n",
       "      <td>545.000000</td>\n",
       "      <td>545.000000</td>\n",
       "      <td>544.000000</td>\n",
       "      <td>545.000000</td>\n",
       "      <td>545.000000</td>\n",
       "      <td>545.000000</td>\n",
       "      <td>545.000000</td>\n",
       "      <td>545.000000</td>\n",
       "      <td>545.000000</td>\n",
       "      <td>540.000000</td>\n",
       "      <td>545.000000</td>\n",
       "      <td>545.000000</td>\n",
       "    </tr>\n",
       "    <tr>\n",
       "      <th>mean</th>\n",
       "      <td>4766.719266</td>\n",
       "      <td>5150.541284</td>\n",
       "      <td>2.965138</td>\n",
       "      <td>1.286765</td>\n",
       "      <td>1.805505</td>\n",
       "      <td>0.858716</td>\n",
       "      <td>0.177982</td>\n",
       "      <td>0.350459</td>\n",
       "      <td>0.045872</td>\n",
       "      <td>0.315596</td>\n",
       "      <td>0.694444</td>\n",
       "      <td>0.234862</td>\n",
       "      <td>0.930275</td>\n",
       "    </tr>\n",
       "    <tr>\n",
       "      <th>std</th>\n",
       "      <td>1870.437725</td>\n",
       "      <td>2170.141023</td>\n",
       "      <td>0.738064</td>\n",
       "      <td>0.502782</td>\n",
       "      <td>0.867492</td>\n",
       "      <td>0.348635</td>\n",
       "      <td>0.382849</td>\n",
       "      <td>0.477552</td>\n",
       "      <td>0.209399</td>\n",
       "      <td>0.465180</td>\n",
       "      <td>0.864238</td>\n",
       "      <td>0.424302</td>\n",
       "      <td>0.761373</td>\n",
       "    </tr>\n",
       "    <tr>\n",
       "      <th>min</th>\n",
       "      <td>1750.000000</td>\n",
       "      <td>1650.000000</td>\n",
       "      <td>1.000000</td>\n",
       "      <td>1.000000</td>\n",
       "      <td>1.000000</td>\n",
       "      <td>0.000000</td>\n",
       "      <td>0.000000</td>\n",
       "      <td>0.000000</td>\n",
       "      <td>0.000000</td>\n",
       "      <td>0.000000</td>\n",
       "      <td>0.000000</td>\n",
       "      <td>0.000000</td>\n",
       "      <td>0.000000</td>\n",
       "    </tr>\n",
       "    <tr>\n",
       "      <th>25%</th>\n",
       "      <td>3430.000000</td>\n",
       "      <td>3600.000000</td>\n",
       "      <td>2.000000</td>\n",
       "      <td>1.000000</td>\n",
       "      <td>1.000000</td>\n",
       "      <td>1.000000</td>\n",
       "      <td>0.000000</td>\n",
       "      <td>0.000000</td>\n",
       "      <td>0.000000</td>\n",
       "      <td>0.000000</td>\n",
       "      <td>0.000000</td>\n",
       "      <td>0.000000</td>\n",
       "      <td>0.000000</td>\n",
       "    </tr>\n",
       "    <tr>\n",
       "      <th>50%</th>\n",
       "      <td>4340.000000</td>\n",
       "      <td>4600.000000</td>\n",
       "      <td>3.000000</td>\n",
       "      <td>1.000000</td>\n",
       "      <td>2.000000</td>\n",
       "      <td>1.000000</td>\n",
       "      <td>0.000000</td>\n",
       "      <td>0.000000</td>\n",
       "      <td>0.000000</td>\n",
       "      <td>0.000000</td>\n",
       "      <td>0.000000</td>\n",
       "      <td>0.000000</td>\n",
       "      <td>1.000000</td>\n",
       "    </tr>\n",
       "    <tr>\n",
       "      <th>75%</th>\n",
       "      <td>5740.000000</td>\n",
       "      <td>6360.000000</td>\n",
       "      <td>3.000000</td>\n",
       "      <td>2.000000</td>\n",
       "      <td>2.000000</td>\n",
       "      <td>1.000000</td>\n",
       "      <td>0.000000</td>\n",
       "      <td>1.000000</td>\n",
       "      <td>0.000000</td>\n",
       "      <td>1.000000</td>\n",
       "      <td>1.000000</td>\n",
       "      <td>0.000000</td>\n",
       "      <td>2.000000</td>\n",
       "    </tr>\n",
       "    <tr>\n",
       "      <th>max</th>\n",
       "      <td>13300.000000</td>\n",
       "      <td>16200.000000</td>\n",
       "      <td>6.000000</td>\n",
       "      <td>4.000000</td>\n",
       "      <td>4.000000</td>\n",
       "      <td>1.000000</td>\n",
       "      <td>1.000000</td>\n",
       "      <td>1.000000</td>\n",
       "      <td>1.000000</td>\n",
       "      <td>1.000000</td>\n",
       "      <td>3.000000</td>\n",
       "      <td>1.000000</td>\n",
       "      <td>2.000000</td>\n",
       "    </tr>\n",
       "  </tbody>\n",
       "</table>\n",
       "</div>"
      ],
      "text/plain": [
       "              price          area    bedrooms   bathrooms     stories  \\\n",
       "count    545.000000    545.000000  545.000000  544.000000  545.000000   \n",
       "mean    4766.719266   5150.541284    2.965138    1.286765    1.805505   \n",
       "std     1870.437725   2170.141023    0.738064    0.502782    0.867492   \n",
       "min     1750.000000   1650.000000    1.000000    1.000000    1.000000   \n",
       "25%     3430.000000   3600.000000    2.000000    1.000000    1.000000   \n",
       "50%     4340.000000   4600.000000    3.000000    1.000000    2.000000   \n",
       "75%     5740.000000   6360.000000    3.000000    2.000000    2.000000   \n",
       "max    13300.000000  16200.000000    6.000000    4.000000    4.000000   \n",
       "\n",
       "         mainroad   guestroom    basement  hotwaterheating  airconditioning  \\\n",
       "count  545.000000  545.000000  545.000000       545.000000       545.000000   \n",
       "mean     0.858716    0.177982    0.350459         0.045872         0.315596   \n",
       "std      0.348635    0.382849    0.477552         0.209399         0.465180   \n",
       "min      0.000000    0.000000    0.000000         0.000000         0.000000   \n",
       "25%      1.000000    0.000000    0.000000         0.000000         0.000000   \n",
       "50%      1.000000    0.000000    0.000000         0.000000         0.000000   \n",
       "75%      1.000000    0.000000    1.000000         0.000000         1.000000   \n",
       "max      1.000000    1.000000    1.000000         1.000000         1.000000   \n",
       "\n",
       "          parking    prefarea  furnishingstatus  \n",
       "count  540.000000  545.000000        545.000000  \n",
       "mean     0.694444    0.234862          0.930275  \n",
       "std      0.864238    0.424302          0.761373  \n",
       "min      0.000000    0.000000          0.000000  \n",
       "25%      0.000000    0.000000          0.000000  \n",
       "50%      0.000000    0.000000          1.000000  \n",
       "75%      1.000000    0.000000          2.000000  \n",
       "max      3.000000    1.000000          2.000000  "
      ]
     },
     "execution_count": 5,
     "metadata": {},
     "output_type": "execute_result"
    }
   ],
   "source": [
    "housing.describe()"
   ]
  },
  {
   "cell_type": "code",
   "execution_count": null,
   "id": "eb6b59f6",
   "metadata": {},
   "outputs": [],
   "source": []
  },
  {
   "cell_type": "code",
   "execution_count": 6,
   "id": "ce537980",
   "metadata": {},
   "outputs": [
    {
     "name": "stdout",
     "output_type": "stream",
     "text": [
      "<class 'pandas.core.frame.DataFrame'>\n",
      "RangeIndex: 545 entries, 0 to 544\n",
      "Data columns (total 13 columns):\n",
      " #   Column            Non-Null Count  Dtype  \n",
      "---  ------            --------------  -----  \n",
      " 0   price             545 non-null    int64  \n",
      " 1   area              545 non-null    int64  \n",
      " 2   bedrooms          545 non-null    int64  \n",
      " 3   bathrooms         544 non-null    float64\n",
      " 4   stories           545 non-null    int64  \n",
      " 5   mainroad          545 non-null    int64  \n",
      " 6   guestroom         545 non-null    int64  \n",
      " 7   basement          545 non-null    int64  \n",
      " 8   hotwaterheating   545 non-null    int64  \n",
      " 9   airconditioning   545 non-null    int64  \n",
      " 10  parking           540 non-null    float64\n",
      " 11  prefarea          545 non-null    int64  \n",
      " 12  furnishingstatus  545 non-null    int64  \n",
      "dtypes: float64(2), int64(11)\n",
      "memory usage: 55.5 KB\n"
     ]
    }
   ],
   "source": [
    "housing.info()"
   ]
  },
  {
   "cell_type": "code",
   "execution_count": 7,
   "id": "070014a4",
   "metadata": {},
   "outputs": [
    {
     "data": {
      "text/plain": [
       "Index(['price', 'area', 'bedrooms', 'bathrooms', 'stories', 'mainroad',\n",
       "       'guestroom', 'basement', 'hotwaterheating', 'airconditioning',\n",
       "       'parking', 'prefarea', 'furnishingstatus'],\n",
       "      dtype='object')"
      ]
     },
     "execution_count": 7,
     "metadata": {},
     "output_type": "execute_result"
    }
   ],
   "source": [
    "housing.keys()"
   ]
  },
  {
   "cell_type": "code",
   "execution_count": 8,
   "id": "19bf3529",
   "metadata": {},
   "outputs": [
    {
     "data": {
      "text/plain": [
       "array([[<AxesSubplot:title={'center':'price'}>,\n",
       "        <AxesSubplot:title={'center':'area'}>],\n",
       "       [<AxesSubplot:title={'center':'bedrooms'}>,\n",
       "        <AxesSubplot:title={'center':'bathrooms'}>],\n",
       "       [<AxesSubplot:title={'center':'stories'}>, <AxesSubplot:>]],\n",
       "      dtype=object)"
      ]
     },
     "execution_count": 8,
     "metadata": {},
     "output_type": "execute_result"
    },
    {
     "data": {
      "image/png": "[encoded data removed]",
      "text/plain": [
       "<Figure size 1080x720 with 6 Axes>"
      ]
     },
     "metadata": {
      "needs_background": "light"
     },
     "output_type": "display_data"
    }
   ],
   "source": [
    "import matplotlib.pyplot as plt\n",
    "housing_plot=housing[['price', 'area', 'bedrooms', 'bathrooms','stories']]\n",
    "housing_plot.hist(bins=30,figsize=(15,10))"
   ]
  },
  {
   "cell_type": "markdown",
   "id": "c5535ecf",
   "metadata": {},
   "source": [
    "## train_test_split\n"
   ]
  },
  {
   "cell_type": "code",
   "execution_count": 9,
   "id": "730ab1bf",
   "metadata": {},
   "outputs": [],
   "source": [
    "# def train_test_split(data, test_ratio):\n",
    "#     np.random.seed(42)\n",
    "#     shuffled = np.random.permutation(len(data))\n",
    "#     print(shuffled)\n",
    "#     test_size= int(len(shuffled)*test_ratio)\n",
    "#     test_indices= shuffled[:test_size] \n",
    "#     train_indices= shuffled[test_size:]  \n",
    "#     return data.iloc[test_indices],data.iloc[train_indices]\n",
    "\n",
    "# test_data, train_data = train_test_split(housing, 0.3)\n",
    "# print(len(train_data),len(test_data))"
   ]
  },
  {
   "cell_type": "code",
   "execution_count": 10,
   "id": "39f0b66d",
   "metadata": {},
   "outputs": [
    {
     "name": "stdout",
     "output_type": "stream",
     "text": [
      "381 164\n"
     ]
    }
   ],
   "source": [
    "from sklearn.model_selection import train_test_split\n",
    "train_index,test_index= train_test_split(housing, test_size=0.3,random_state=42)\n",
    "print(len(train_index),len(test_index))"
   ]
  },
  {
   "cell_type": "code",
   "execution_count": 11,
   "id": "0629e50e",
   "metadata": {},
   "outputs": [
    {
     "name": "stdout",
     "output_type": "stream",
     "text": [
      "TRAIN: [ 48 244 451 205 308 105 275 246 250 296 538  73 424 258 420 401 446  69\n",
      " 530 305 321 384 363 290 130 181  26 447 232 432 243  59 480  49 317 136\n",
      "  37 186  20 344 466 354  80 459 379 274  44 406 383 399 430  25  10 339\n",
      " 527 478 529 499 300 125  19 421 169   4 508 390  58 198 426 437 288 117\n",
      " 513 523 539 498 341 218 407 240 268 306 147 142 484 356 461 319 405 236\n",
      " 491 462   7 469 133 212 252  31 338  47 216 101 185   8 400 260 123 273\n",
      " 151 111 434 249 441 310 208 298 358 284 381 391 221  57 175 488 463 247\n",
      " 394 465 297  62 120 200 435 167 211 129 404  87 413 479   2 157 414 312\n",
      " 374 336 361 389  45 149  33 148 103 454 377 468 119 412 285 422 373 386\n",
      " 271 179  96 231 525 362 528 280 517 126 495 188 457 239 215 542  93  18\n",
      "  98 118 241 511  71 360  46 385 366 144  28 192 115 180  78 315 417 323\n",
      "  72 490 122 134 255  82 515 107 494 335 116 431 402 489 153 113 165  53\n",
      " 343 293 237 187 472 328 228 245 229 263 223  27 135 172 262 248 475 304\n",
      "  74 214 411  56 163 137 393  55 299 458 326  35 387 171 395 351  83 371\n",
      " 456 464 350  77 302 470  12 114 104 353 204 272 158  51 234 195  24  90\n",
      " 121 146 173 254 190 309 222 429 507 443  16  94  68 535 156 398 199  29\n",
      "  84 345 531 127  39 203 303 340 164 294  54 193  40 206  75 160 438 224\n",
      " 256 442 416 388  86 219  14 191 159  65 365 267 483 213 170  95  23 259\n",
      " 253 307 207 201 367  64  36 109 397 154 497 403 521 128 140 541 100 220\n",
      "  61 485  85 396 522 427 174  34 502 287  22  50 276  60 143 131 348 496\n",
      " 162 418  52  30 301 182 504 382  17 283 355 314 329 448 166 409 425   5\n",
      " 282 342 471] TEST: [514 152   0 487 415 486  89 453 493 333 334 534 330  38 277 161  76 408\n",
      " 322 233 526 316 178  79 476 230 378 235 460  13  15 347 311 337 265 292\n",
      "  41 509 295 155 327 124  21 197  81   3 364 445 106 352 532 286 324  97\n",
      " 520 368 524 209 138 150 217 145 210 444  11 492 540  70 346 320 433 533\n",
      " 380 291 537   9 372 357 176 536 269 512 141 543 238 449 369 279 242 516\n",
      " 202 419 266 370 184 225  91 251 482 132  67 518 349  42 473 139 503 410\n",
      "  63   1 177 313 436 467 510 194 428 331  88 474 455 183 281 108 227 332\n",
      " 452 439 318 440  92 423 189 325   6 270 264 112 450 261 226  43 289  66\n",
      " 110 477 501 375 544 506 278 102 481 376 519 257 168  32 500  99 196 392\n",
      " 505 359]\n"
     ]
    }
   ],
   "source": [
    "from sklearn.model_selection import StratifiedShuffleSplit\n",
    "sss = StratifiedShuffleSplit(n_splits=1,test_size=0.3, random_state=42)\n",
    "\n",
    "for train_index, test_index in sss.split(housing, housing[\"stories\"]):\n",
    "    print(\"TRAIN:\", train_index, \"TEST:\", test_index)\n",
    "    strat_train_set, strat_test_set = housing.loc[train_index], housing.loc[test_index]\n",
    "\n"
   ]
  },
  {
   "cell_type": "code",
   "execution_count": 12,
   "id": "cb768d8a",
   "metadata": {},
   "outputs": [
    {
     "name": "stdout",
     "output_type": "stream",
     "text": [
      "2    72\n",
      "1    68\n",
      "3    12\n",
      "4    12\n",
      "Name: stories, dtype: int64\n",
      "2    166\n",
      "1    159\n",
      "4     29\n",
      "3     27\n",
      "Name: stories, dtype: int64\n"
     ]
    }
   ],
   "source": [
    "print(strat_test_set.stories.value_counts())\n",
    "print(strat_train_set.stories.value_counts())"
   ]
  },
  {
   "cell_type": "code",
   "execution_count": 13,
   "id": "c8e0b811",
   "metadata": {},
   "outputs": [
    {
     "name": "stdout",
     "output_type": "stream",
     "text": [
      "<class 'pandas.core.frame.DataFrame'>\n",
      "Int64Index: 381 entries, 48 to 471\n",
      "Data columns (total 13 columns):\n",
      " #   Column            Non-Null Count  Dtype  \n",
      "---  ------            --------------  -----  \n",
      " 0   price             381 non-null    int64  \n",
      " 1   area              381 non-null    int64  \n",
      " 2   bedrooms          381 non-null    int64  \n",
      " 3   bathrooms         380 non-null    float64\n",
      " 4   stories           381 non-null    int64  \n",
      " 5   mainroad          381 non-null    int64  \n",
      " 6   guestroom         381 non-null    int64  \n",
      " 7   basement          381 non-null    int64  \n",
      " 8   hotwaterheating   381 non-null    int64  \n",
      " 9   airconditioning   381 non-null    int64  \n",
      " 10  parking           377 non-null    float64\n",
      " 11  prefarea          381 non-null    int64  \n",
      " 12  furnishingstatus  381 non-null    int64  \n",
      "dtypes: float64(2), int64(11)\n",
      "memory usage: 41.7 KB\n"
     ]
    }
   ],
   "source": [
    "housing =strat_train_set\n",
    "housing.info()"
   ]
  },
  {
   "cell_type": "code",
   "execution_count": 14,
   "id": "6676b6dd",
   "metadata": {},
   "outputs": [
    {
     "data": {
      "text/plain": [
       "price               1.000000\n",
       "area                0.553525\n",
       "bathrooms           0.458822\n",
       "airconditioning     0.437236\n",
       "stories             0.407891\n",
       "bedrooms            0.362657\n",
       "parking             0.332383\n",
       "prefarea            0.305082\n",
       "mainroad            0.301810\n",
       "furnishingstatus    0.290850\n",
       "guestroom           0.277788\n",
       "basement            0.209925\n",
       "hotwaterheating     0.072425\n",
       "Name: price, dtype: float64"
      ]
     },
     "execution_count": 14,
     "metadata": {},
     "output_type": "execute_result"
    }
   ],
   "source": [
    "corr_matrix=housing.corr()\n",
    "corr_matrix.price.sort_values(ascending=False)"
   ]
  },
  {
   "cell_type": "code",
   "execution_count": 15,
   "id": "ed8ae4e4",
   "metadata": {},
   "outputs": [
    {
     "data": {
      "text/plain": [
       "array([[<AxesSubplot:xlabel='price', ylabel='price'>,\n",
       "        <AxesSubplot:xlabel='area', ylabel='price'>,\n",
       "        <AxesSubplot:xlabel='bedrooms', ylabel='price'>,\n",
       "        <AxesSubplot:xlabel='bathrooms', ylabel='price'>,\n",
       "        <AxesSubplot:xlabel='stories', ylabel='price'>,\n",
       "        <AxesSubplot:xlabel='parking', ylabel='price'>],\n",
       "       [<AxesSubplot:xlabel='price', ylabel='area'>,\n",
       "        <AxesSubplot:xlabel='area', ylabel='area'>,\n",
       "        <AxesSubplot:xlabel='bedrooms', ylabel='area'>,\n",
       "        <AxesSubplot:xlabel='bathrooms', ylabel='area'>,\n",
       "        <AxesSubplot:xlabel='stories', ylabel='area'>,\n",
       "        <AxesSubplot:xlabel='parking', ylabel='area'>],\n",
       "       [<AxesSubplot:xlabel='price', ylabel='bedrooms'>,\n",
       "        <AxesSubplot:xlabel='area', ylabel='bedrooms'>,\n",
       "        <AxesSubplot:xlabel='bedrooms', ylabel='bedrooms'>,\n",
       "        <AxesSubplot:xlabel='bathrooms', ylabel='bedrooms'>,\n",
       "        <AxesSubplot:xlabel='stories', ylabel='bedrooms'>,\n",
       "        <AxesSubplot:xlabel='parking', ylabel='bedrooms'>],\n",
       "       [<AxesSubplot:xlabel='price', ylabel='bathrooms'>,\n",
       "        <AxesSubplot:xlabel='area', ylabel='bathrooms'>,\n",
       "        <AxesSubplot:xlabel='bedrooms', ylabel='bathrooms'>,\n",
       "        <AxesSubplot:xlabel='bathrooms', ylabel='bathrooms'>,\n",
       "        <AxesSubplot:xlabel='stories', ylabel='bathrooms'>,\n",
       "        <AxesSubplot:xlabel='parking', ylabel='bathrooms'>],\n",
       "       [<AxesSubplot:xlabel='price', ylabel='stories'>,\n",
       "        <AxesSubplot:xlabel='area', ylabel='stories'>,\n",
       "        <AxesSubplot:xlabel='bedrooms', ylabel='stories'>,\n",
       "        <AxesSubplot:xlabel='bathrooms', ylabel='stories'>,\n",
       "        <AxesSubplot:xlabel='stories', ylabel='stories'>,\n",
       "        <AxesSubplot:xlabel='parking', ylabel='stories'>],\n",
       "       [<AxesSubplot:xlabel='price', ylabel='parking'>,\n",
       "        <AxesSubplot:xlabel='area', ylabel='parking'>,\n",
       "        <AxesSubplot:xlabel='bedrooms', ylabel='parking'>,\n",
       "        <AxesSubplot:xlabel='bathrooms', ylabel='parking'>,\n",
       "        <AxesSubplot:xlabel='stories', ylabel='parking'>,\n",
       "        <AxesSubplot:xlabel='parking', ylabel='parking'>]], dtype=object)"
      ]
     },
     "execution_count": 15,
     "metadata": {},
     "output_type": "execute_result"
    },
    {
     "data": {
      "image/png": "[encoded data removed]",
      "text/plain": [
       "<Figure size 1080x720 with 36 Axes>"
      ]
     },
     "metadata": {
      "needs_background": "light"
     },
     "output_type": "display_data"
    }
   ],
   "source": [
    "from pandas.plotting import scatter_matrix\n",
    "attributes = ['price', 'area', 'bedrooms', 'bathrooms', 'stories', 'parking']\n",
    "scatter_matrix(housing[attributes],figsize=[15,10])"
   ]
  },
  {
   "cell_type": "code",
   "execution_count": 16,
   "id": "246de5b5",
   "metadata": {},
   "outputs": [
    {
     "data": {
      "text/plain": [
       "<AxesSubplot:xlabel='price', ylabel='area'>"
      ]
     },
     "execution_count": 16,
     "metadata": {},
     "output_type": "execute_result"
    },
    {
     "data": {
      "image/png": "[encoded data removed]",
      "text/plain": [
       "<Figure size 432x288 with 1 Axes>"
      ]
     },
     "metadata": {
      "needs_background": "light"
     },
     "output_type": "display_data"
    }
   ],
   "source": [
    "housing.plot(kind=\"scatter\",x=\"price\",y=\"area\",alpha=0.8)"
   ]
  },
  {
   "cell_type": "code",
   "execution_count": 17,
   "id": "08241db6",
   "metadata": {},
   "outputs": [
    {
     "data": {
      "text/plain": [
       "<AxesSubplot:>"
      ]
     },
     "execution_count": 17,
     "metadata": {},
     "output_type": "execute_result"
    },
    {
     "data": {
      "image/png": "[encoded data removed]",
      "text/plain": [
       "<Figure size 432x288 with 2 Axes>"
      ]
     },
     "metadata": {
      "needs_background": "light"
     },
     "output_type": "display_data"
    }
   ],
   "source": [
    "import seaborn as sn\n",
    "sn.heatmap(housing[['price', 'area', 'bedrooms', 'bathrooms', 'stories', 'parking']].corr(), annot = True, fmt='.2g',cmap= 'coolwarm')\n"
   ]
  },
  {
   "cell_type": "code",
   "execution_count": 18,
   "id": "3d30956f",
   "metadata": {},
   "outputs": [
    {
     "data": {
      "image/png": "[encoded data removed]",
      "text/plain": [
       "<Figure size 432x288 with 1 Axes>"
      ]
     },
     "metadata": {
      "needs_background": "light"
     },
     "output_type": "display_data"
    },
    {
     "data": {
      "image/png": "[encoded data removed]",
      "text/plain": [
       "<Figure size 432x288 with 1 Axes>"
      ]
     },
     "metadata": {
      "needs_background": "light"
     },
     "output_type": "display_data"
    },
    {
     "data": {
      "image/png": "[encoded data removed]",
      "text/plain": [
       "<Figure size 432x288 with 1 Axes>"
      ]
     },
     "metadata": {
      "needs_background": "light"
     },
     "output_type": "display_data"
    },
    {
     "data": {
      "image/png": "[encoded data removed]",
      "text/plain": [
       "<Figure size 432x288 with 1 Axes>"
      ]
     },
     "metadata": {
      "needs_background": "light"
     },
     "output_type": "display_data"
    },
    {
     "data": {
      "image/png": "[encoded data removed]",
      "text/plain": [
       "<Figure size 432x288 with 1 Axes>"
      ]
     },
     "metadata": {
      "needs_background": "light"
     },
     "output_type": "display_data"
    },
    {
     "data": {
      "image/png": "[encoded data removed]",
      "text/plain": [
       "<Figure size 432x288 with 1 Axes>"
      ]
     },
     "metadata": {
      "needs_background": "light"
     },
     "output_type": "display_data"
    },
    {
     "data": {
      "image/png": "[encoded data removed]",
      "text/plain": [
       "<Figure size 432x288 with 1 Axes>"
      ]
     },
     "metadata": {
      "needs_background": "light"
     },
     "output_type": "display_data"
    }
   ],
   "source": [
    "cat_df=housing[['mainroad','guestroom', 'basement', 'hotwaterheating', 'airconditioning', 'prefarea', 'furnishingstatus']]\n",
    "for i in cat_df.columns:\n",
    "    cat_vc=cat_df[i].value_counts()\n",
    "    sn.barplot(x=cat_vc.index, y=cat_vc)\n",
    "    plt.xticks(rotation=90)\n",
    "    plt.show()"
   ]
  },
  {
   "cell_type": "code",
   "execution_count": 19,
   "id": "0a68b7bf",
   "metadata": {
    "scrolled": true
   },
   "outputs": [
    {
     "name": "stdout",
     "output_type": "stream",
     "text": [
      "\u001b[1m  area x price \u001b[0m\n",
      "         price\n",
      "area          \n",
      "9960   12250.0\n",
      "7420   11410.0\n",
      "7500   10850.0\n",
      "16200  10150.0\n",
      "13200   9800.0\n",
      "...        ...\n",
      "3360    2100.0\n",
      "3649    1890.0\n",
      "2990    1855.0\n",
      "2400    1767.0\n",
      "3620    1750.0\n",
      "\n",
      "[224 rows x 1 columns]\n",
      "\n",
      "\n",
      "\u001b[1m  bedrooms x price \u001b[0m\n",
      "                price\n",
      "bedrooms             \n",
      "5         6319.000000\n",
      "4         5516.462687\n",
      "3         5142.485714\n",
      "2         3649.063158\n",
      "6         3500.000000\n",
      "1         2275.000000\n",
      "\n",
      "\n",
      "\u001b[1m  bathrooms x price \u001b[0m\n",
      "                 price\n",
      "bathrooms             \n",
      "3.0        6650.000000\n",
      "2.0        6162.948980\n",
      "1.0        4327.672727\n",
      "\n",
      "\n",
      "\u001b[1m  stories x price \u001b[0m\n",
      "               price\n",
      "stories             \n",
      "4        7010.448276\n",
      "3        5458.296296\n",
      "2        4967.933735\n",
      "1        4219.119497\n",
      "\n",
      "\n",
      "\u001b[1m  mainroad x price \u001b[0m\n",
      "                price\n",
      "mainroad             \n",
      "1         5055.640483\n",
      "0         3455.540000\n",
      "\n",
      "\n",
      "\u001b[1m  guestroom x price \u001b[0m\n",
      "                 price\n",
      "guestroom             \n",
      "1          5962.888889\n",
      "0          4624.314465\n",
      "\n",
      "\n",
      "\u001b[1m  basement x price \u001b[0m\n",
      "                price\n",
      "basement             \n",
      "1         5358.812030\n",
      "0         4570.451613\n",
      "\n",
      "\n",
      "\u001b[1m  hotwaterheating x price \u001b[0m\n",
      "                       price\n",
      "hotwaterheating             \n",
      "1                5445.588235\n",
      "0                4817.634615\n",
      "\n",
      "\n",
      "\u001b[1m  airconditioning x price \u001b[0m\n",
      "                       price\n",
      "airconditioning             \n",
      "1                5959.150794\n",
      "0                4295.454902\n",
      "\n",
      "\n",
      "\u001b[1m  parking x price \u001b[0m\n",
      "               price\n",
      "parking             \n",
      "2.0      5818.500000\n",
      "1.0      5362.078652\n",
      "3.0      4658.500000\n",
      "0.0      4254.411765\n",
      "\n",
      "\n",
      "\u001b[1m  prefarea x price \u001b[0m\n",
      "                price\n",
      "prefarea             \n",
      "1         5820.604396\n",
      "0         4539.720690\n",
      "\n",
      "\n",
      "\u001b[1m  furnishingstatus x price \u001b[0m\n",
      "                        price\n",
      "furnishingstatus             \n",
      "2                 5525.852632\n",
      "1                 4969.006135\n",
      "0                 4156.829268\n",
      "\n",
      "\n"
     ]
    }
   ],
   "source": [
    "df_pivots=housing[[ 'area', 'bedrooms', 'bathrooms', 'stories', 'mainroad','guestroom', 'basement', 'hotwaterheating', \n",
    "             'airconditioning','parking', 'prefarea', 'furnishingstatus','price']]\n",
    "\n",
    "for i in df_pivots.columns[:-1]:\n",
    "    print('\\033[1m  {} x price \\033[0m'.format(i) )\n",
    "    print(pd.pivot_table(df_pivots, index= i, values=\"price\").sort_values(\"price\",ascending=False))\n",
    "    print('\\n')"
   ]
  },
  {
   "cell_type": "code",
   "execution_count": 20,
   "id": "2133e040",
   "metadata": {},
   "outputs": [],
   "source": [
    "# #Handling Missing attributes By imputing median\n",
    "# from sklearn.impute import SimpleImputer\n",
    "# imputer= SimpleImputer(strategy=\"median\")\n",
    "# handleMissingValue=['MaintenanceStaff', 'Gymnasium', 'SwimmingPool', 'LandscapedGardens','JoggingTrack', 'IndoorGames', 'ShoppingMall', 'ATM', 'ClubHouse',\n",
    "# 'School', '24X7Security', 'CarParking', 'Hospital', 'Gasconnection',\"Children'splayarea\", 'LiftAvailable', 'VaastuCompliant']\n",
    "# imputer.fit(housing[handleMissingValue])\n",
    "# X= imputer.transform(housing[handleMissingValue])\n",
    "# housing_tr=pd.DataFrame(X,columns=handleMissingValue)\n",
    "# housing_tr.info()"
   ]
  },
  {
   "cell_type": "code",
   "execution_count": 21,
   "id": "bd0b905d",
   "metadata": {},
   "outputs": [],
   "source": [
    "housing =strat_train_set.drop(\"price\",axis=1)\n",
    "housing_labels=strat_train_set[\"price\"]"
   ]
  },
  {
   "cell_type": "code",
   "execution_count": 22,
   "id": "2b113d9a",
   "metadata": {},
   "outputs": [
    {
     "data": {
      "text/plain": [
       "array([[-0.42676862,  0.0467959 ,  1.4284685 , ...,  0.35472182,\n",
       "        -0.56017239, -1.23067506],\n",
       "       [ 0.02229973,  0.0467959 , -0.59475268, ..., -0.81035587,\n",
       "         1.78516475,  0.09761729],\n",
       "       [ 0.65187595, -1.32468407, -0.59475268, ..., -0.81035587,\n",
       "        -0.56017239,  0.09761729],\n",
       "       ...,\n",
       "       [-1.36232769,  0.0467959 , -0.59475268, ..., -0.81035587,\n",
       "        -0.56017239, -1.23067506],\n",
       "       [ 0.82886171,  0.0467959 , -0.59475268, ..., -0.81035587,\n",
       "        -0.56017239,  1.42590963],\n",
       "       [-0.66891332,  0.0467959 , -0.59475268, ..., -0.81035587,\n",
       "        -0.56017239, -1.23067506]])"
      ]
     },
     "execution_count": 22,
     "metadata": {},
     "output_type": "execute_result"
    }
   ],
   "source": [
    "#Creating a pipeline\n",
    "# The pipeline can be used as any other estimator\n",
    "# and avoids leaking the test set into the train set\n",
    "\n",
    "from sklearn.pipeline import Pipeline\n",
    "from sklearn.impute import SimpleImputer\n",
    "from sklearn.preprocessing import StandardScaler\n",
    "\n",
    "pipe =Pipeline([('imputer',SimpleImputer(strategy=\"median\")),\n",
    "                ('scaler',StandardScaler())])\n",
    "\n",
    "housing_tr = pipe.fit_transform(housing)\n",
    "housing_tr"
   ]
  },
  {
   "cell_type": "markdown",
   "id": "6dc9110b",
   "metadata": {},
   "source": [
    "## Selecting a desired model\n",
    "\n"
   ]
  },
  {
   "cell_type": "code",
   "execution_count": 23,
   "id": "5f21db38",
   "metadata": {},
   "outputs": [
    {
     "data": {
      "text/plain": [
       "DecisionTreeRegressor()"
      ]
     },
     "execution_count": 23,
     "metadata": {},
     "output_type": "execute_result"
    }
   ],
   "source": [
    "from sklearn.linear_model import LinearRegression\n",
    "from sklearn.tree import DecisionTreeRegressor\n",
    "from sklearn.ensemble import RandomForestRegressor\n",
    "from sklearn.cluster import KMeans\n",
    "#model= LinearRegression()\n",
    "#model= RandomForestRegressor()\n",
    "#model = KMeans(n_clusters=2, random_state=0)\n",
    "#model= LogisticRegression()\n",
    "model= DecisionTreeRegressor()\n",
    "\n",
    "\n",
    "model.fit(housing_tr,housing_labels)"
   ]
  },
  {
   "cell_type": "code",
   "execution_count": 24,
   "id": "8aca93d4",
   "metadata": {},
   "outputs": [],
   "source": [
    "#ft = fake test data from the training data itself (Since Not touching Actual test data for now)\n",
    "ft_data = housing.iloc[:9]\n",
    "ft_labels = housing_labels.iloc[:9]\n",
    "tr_data = pipe.fit_transform(ft_data)\n"
   ]
  },
  {
   "cell_type": "code",
   "execution_count": 25,
   "id": "3ef41cdc",
   "metadata": {},
   "outputs": [
    {
     "name": "stdout",
     "output_type": "stream",
     "text": [
      "Predicted labels\n"
     ]
    },
    {
     "data": {
      "text/plain": [
       "array([4060., 5523., 5600., 4760., 4655., 6720., 3395., 3780., 3780.])"
      ]
     },
     "execution_count": 25,
     "metadata": {},
     "output_type": "execute_result"
    }
   ],
   "source": [
    "print(\"Predicted labels\")\n",
    "model.predict(tr_data) "
   ]
  },
  {
   "cell_type": "code",
   "execution_count": 26,
   "id": "2a157879",
   "metadata": {},
   "outputs": [
    {
     "name": "stdout",
     "output_type": "stream",
     "text": [
      "Actual labels\n"
     ]
    },
    {
     "data": {
      "text/plain": [
       "[7455, 4550, 3150, 4900, 4165, 6160, 4319, 4550, 4515]"
      ]
     },
     "execution_count": 26,
     "metadata": {},
     "output_type": "execute_result"
    }
   ],
   "source": [
    "print(\"Actual labels\")\n",
    "list(ft_labels)"
   ]
  },
  {
   "cell_type": "markdown",
   "id": "1decfb7f",
   "metadata": {},
   "source": [
    "## Evaluating The Model"
   ]
  },
  {
   "cell_type": "code",
   "execution_count": 27,
   "id": "3f9bfc90",
   "metadata": {},
   "outputs": [
    {
     "data": {
      "text/plain": [
       "44.65585817439117"
      ]
     },
     "execution_count": 27,
     "metadata": {},
     "output_type": "execute_result"
    }
   ],
   "source": [
    "from sklearn.metrics import mean_squared_error\n",
    "house_prediction= model.predict(housing_tr)\n",
    "mse = mean_squared_error(housing_labels,house_prediction)\n",
    "rmse=np.sqrt(mse)\n",
    "rmse"
   ]
  },
  {
   "cell_type": "markdown",
   "id": "4eb940f8",
   "metadata": {},
   "source": [
    "## Better evaluation technique"
   ]
  },
  {
   "cell_type": "code",
   "execution_count": 28,
   "id": "a8acf84a",
   "metadata": {},
   "outputs": [
    {
     "data": {
      "text/plain": [
       "array([2631177.5       , 3901539.39473684, 2336096.92105263,\n",
       "       2040194.86842105, 2994217.21052632, 1954904.        ,\n",
       "       1923765.39473684, 2685822.81578947, 1698673.47368421,\n",
       "       2245043.98026316])"
      ]
     },
     "execution_count": 28,
     "metadata": {},
     "output_type": "execute_result"
    }
   ],
   "source": [
    "from sklearn.model_selection import cross_val_score\n",
    "scores= cross_val_score(model,housing_tr,housing_labels,scoring='neg_mean_squared_error',cv=10)\n",
    "rmse_scores=(-scores)\n",
    "rmse_scores"
   ]
  },
  {
   "cell_type": "code",
   "execution_count": 29,
   "id": "fce38407",
   "metadata": {},
   "outputs": [
    {
     "name": "stdout",
     "output_type": "stream",
     "text": [
      "Scores: [2631177.5        3901539.39473684 2336096.92105263 2040194.86842105\n",
      " 2994217.21052632 1954904.         1923765.39473684 2685822.81578947\n",
      " 1698673.47368421 2245043.98026316]\n",
      "Mean: 2441143.5559210526\n",
      "Std: 616461.5067519345\n"
     ]
    }
   ],
   "source": [
    "def print_scores(scores):\n",
    "    print(\"Scores:\",scores)\n",
    "    print(\"Mean:\",scores.mean())\n",
    "    print(\"Std:\",scores.std())\n",
    "print_scores(rmse_scores)"
   ]
  },
  {
   "cell_type": "code",
   "execution_count": 30,
   "id": "141ba3c7",
   "metadata": {},
   "outputs": [
    {
     "data": {
      "text/plain": [
       "['housePricePredictor.joblib']"
      ]
     },
     "execution_count": 30,
     "metadata": {},
     "output_type": "execute_result"
    }
   ],
   "source": [
    "from joblib import dump, load\n",
    "dump(model, 'housePricePredictor.joblib') "
   ]
  },
  {
   "cell_type": "markdown",
   "id": "3526de0e",
   "metadata": {},
   "source": [
    "## Testing "
   ]
  },
  {
   "cell_type": "code",
   "execution_count": 31,
   "id": "ce577d6c",
   "metadata": {},
   "outputs": [],
   "source": [
    "X_test = strat_test_set.drop(\"price\",axis=1)\n",
    "y_test = strat_test_set[\"price\"]\n",
    "X_test_tr = pipe.transform(X_test)\n",
    "model_prediction= model.predict(X_test_tr)\n",
    "final_mse= mean_squared_error(y_test,model_prediction)\n",
    "final_rmse= np.sqrt(final_mse)"
   ]
  },
  {
   "cell_type": "code",
   "execution_count": 32,
   "id": "e6bc0f20",
   "metadata": {},
   "outputs": [
    {
     "data": {
      "text/plain": [
       "1923.3425090222997"
      ]
     },
     "execution_count": 32,
     "metadata": {},
     "output_type": "execute_result"
    }
   ],
   "source": [
    "final_rmse"
   ]
  },
  {
   "cell_type": "code",
   "execution_count": 34,
   "id": "4f84ee48",
   "metadata": {},
   "outputs": [
    {
     "data": {
      "text/plain": [
       "array([-0.35912478,  0.53452248,  2.82842712,  0.1118034 ,  0.        ,\n",
       "       -0.35355339,  1.11803399,  0.        , -0.53452248,  0.81110711,\n",
       "       -0.53452248, -1.56892908])"
      ]
     },
     "execution_count": 34,
     "metadata": {},
     "output_type": "execute_result"
    }
   ],
   "source": [
    "tr_data[0]"
   ]
  },
  {
   "cell_type": "code",
   "execution_count": null,
   "id": "9907efcd",
   "metadata": {},
   "outputs": [],
   "source": []
  }
 ],
 "metadata": {
  "kernelspec": {
   "display_name": "Python 3 (ipykernel)",
   "language": "python",
   "name": "python3"
  },
  "language_info": {
   "codemirror_mode": {
    "name": "ipython",
    "version": 3
   },
   "file_extension": ".py",
   "mimetype": "text/x-python",
   "name": "python",
   "nbconvert_exporter": "python",
   "pygments_lexer": "ipython3",
   "version": "3.9.7"
  }
 },
 "nbformat": 4,
 "nbformat_minor": 5
}
